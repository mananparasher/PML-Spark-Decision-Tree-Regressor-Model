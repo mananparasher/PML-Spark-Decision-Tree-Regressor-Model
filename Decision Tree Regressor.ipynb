{
 "cells": [
  {
   "cell_type": "markdown",
   "metadata": {},
   "source": [
    "## Import the Libraries"
   ]
  },
  {
   "cell_type": "code",
   "execution_count": null,
   "metadata": {},
   "outputs": [],
   "source": [
    "import pyspark\n",
    "from pyspark.sql import SparkSession\n",
    "from pyspark.ml.regression import DecisionTreeRegressor\n",
    "from pyspark.ml.feature import StringIndexer, VectorAssembler\n",
    "from pyspark.ml.feature import VectorAssembler\n",
    "from pyspark.ml import Pipeline\n",
    "conf = pyspark.SparkConf().setAppName(\"Decision Tree Regression\")\n",
    "sc = SparkContext.getOrCreate(conf=conf)"
   ]
  },
  {
   "cell_type": "markdown",
   "metadata": {},
   "source": [
    "## Download the Dataset"
   ]
  },
  {
   "cell_type": "code",
   "execution_count": 10,
   "metadata": {},
   "outputs": [
    {
     "name": "stdout",
     "output_type": "stream",
     "text": [
      "Warning: Failed to set locale category LC_NUMERIC to en_IN.\n",
      "Warning: Failed to set locale category LC_TIME to en_IN.\n",
      "Warning: Failed to set locale category LC_COLLATE to en_IN.\n",
      "Warning: Failed to set locale category LC_MONETARY to en_IN.\n",
      "Warning: Failed to set locale category LC_MESSAGES to en_IN.\n",
      "--2020-06-21 19:21:54--  https://raw.githubusercontent.com/mananparasher/Spark-Datasets/master/bank_data.csv\n",
      "Resolving raw.githubusercontent.com (raw.githubusercontent.com)... 151.101.52.133\n",
      "Connecting to raw.githubusercontent.com (raw.githubusercontent.com)|151.101.52.133|:443... connected.\n",
      "HTTP request sent, awaiting response... 200 OK\n",
      "Length: 918960 (897K) [text/plain]\n",
      "Saving to: ‘bank_data.csv.2’\n",
      "\n",
      "bank_data.csv.2     100%[===================>] 897.42K  1.80MB/s    in 0.5s    \n",
      "\n",
      "2020-06-21 19:21:55 (1.80 MB/s) - ‘bank_data.csv.2’ saved [918960/918960]\n",
      "\n"
     ]
    }
   ],
   "source": [
    "!wget https://raw.githubusercontent.com/mananparasher/Spark-Datasets/master/bank_data.csv"
   ]
  },
  {
   "cell_type": "markdown",
   "metadata": {},
   "source": [
    "## Load the Data in Spark DataFrame"
   ]
  },
  {
   "cell_type": "code",
   "execution_count": 2,
   "metadata": {},
   "outputs": [
    {
     "name": "stdout",
     "output_type": "stream",
     "text": [
      "root\n",
      " |-- age: integer (nullable = true)\n",
      " |-- job: string (nullable = true)\n",
      " |-- marital: string (nullable = true)\n",
      " |-- education: string (nullable = true)\n",
      " |-- default: string (nullable = true)\n",
      " |-- balance: integer (nullable = true)\n",
      " |-- housing: string (nullable = true)\n",
      " |-- loan: string (nullable = true)\n",
      " |-- contact: string (nullable = true)\n",
      " |-- day: integer (nullable = true)\n",
      " |-- month: string (nullable = true)\n",
      " |-- duration: integer (nullable = true)\n",
      " |-- campaign: integer (nullable = true)\n",
      " |-- pdays: integer (nullable = true)\n",
      " |-- previous: integer (nullable = true)\n",
      " |-- poutcome: string (nullable = true)\n",
      " |-- deposit: string (nullable = true)\n",
      "\n"
     ]
    }
   ],
   "source": [
    "df = spark.read.csv('bank_data.csv', header = True, inferSchema = True)\n",
    "df.printSchema()"
   ]
  },
  {
   "cell_type": "markdown",
   "metadata": {},
   "source": [
    "## Data Processing for Machine Learning Model"
   ]
  },
  {
   "cell_type": "code",
   "execution_count": 3,
   "metadata": {},
   "outputs": [],
   "source": [
    "pipeline_stages=[]\n",
    "categorical_columns = ['job', 'marital', 'education', 'default', 'housing', 'loan', 'contact', 'poutcome','deposit']\n",
    "for value in categorical_columns:\n",
    "    string_indexer = StringIndexer(inputCol=value, outputCol=value+\"indexer\")\n",
    "    pipeline_stages += [string_indexer]\n",
    "\n",
    "numerical_columns = ['age', 'duration', 'campaign', 'pdays', 'previous']\n",
    "combined_columns = [columns + \"indexer\" for columns in categorical_columns] + numerical_columns\n",
    "\n",
    "vector_assembler = VectorAssembler(inputCols=combined_columns, outputCol=\"features\")\n",
    "pipeline_stages += [vector_assembler]"
   ]
  },
  {
   "cell_type": "code",
   "execution_count": 4,
   "metadata": {},
   "outputs": [
    {
     "data": {
      "text/plain": [
       "[StringIndexer_4835827940c8e276ec35,\n",
       " StringIndexer_42ba8eb918a0df020e65,\n",
       " StringIndexer_46ee93620497ebeb195a,\n",
       " StringIndexer_44e5a1d27cb7cf138441,\n",
       " StringIndexer_475381175977db0cbf5c,\n",
       " StringIndexer_4c62a1ff3cd7ab7a2f32,\n",
       " StringIndexer_4e1eaf9fdc390c59e86b,\n",
       " StringIndexer_4ea9bfaba09ead8bb4a0,\n",
       " StringIndexer_408a962bd73cbc6a687b,\n",
       " VectorAssembler_4f69b29b64a38e1625b3]"
      ]
     },
     "execution_count": 4,
     "metadata": {},
     "output_type": "execute_result"
    }
   ],
   "source": [
    "pipeline_stages"
   ]
  },
  {
   "cell_type": "code",
   "execution_count": 5,
   "metadata": {
    "scrolled": true
   },
   "outputs": [
    {
     "name": "stdout",
     "output_type": "stream",
     "text": [
      "root\n",
      " |-- features: vector (nullable = true)\n",
      " |-- balance: integer (nullable = true)\n",
      "\n"
     ]
    }
   ],
   "source": [
    "pipeline = Pipeline(stages = pipeline_stages)\n",
    "pipeline_fit = pipeline.fit(df).transform(df)\n",
    "df = pipeline_fit.select([\"features\",\"balance\"])\n",
    "df.printSchema()"
   ]
  },
  {
   "cell_type": "markdown",
   "metadata": {},
   "source": [
    "## Data Splitting"
   ]
  },
  {
   "cell_type": "code",
   "execution_count": 6,
   "metadata": {},
   "outputs": [
    {
     "name": "stdout",
     "output_type": "stream",
     "text": [
      "Training Dataset Count: 10026\n",
      "Test Dataset Count: 1136\n"
     ]
    }
   ],
   "source": [
    "training_data, testing_data = df.randomSplit([0.9, 0.1])\n",
    "print(\"Training Dataset Count: \" + str(training_data.count()))\n",
    "print(\"Test Dataset Count: \" + str(testing_data.count()))"
   ]
  },
  {
   "cell_type": "markdown",
   "metadata": {},
   "source": [
    "## Model Implementation and Fitting"
   ]
  },
  {
   "cell_type": "code",
   "execution_count": 9,
   "metadata": {},
   "outputs": [
    {
     "data": {
      "text/plain": [
       "DecisionTreeRegressionModel (uid=DecisionTreeRegressor_45f0ad2b97c083e6e9e7) of depth 10 with 877 nodes"
      ]
     },
     "execution_count": 9,
     "metadata": {},
     "output_type": "execute_result"
    }
   ],
   "source": [
    "decisiontreeregressor = DecisionTreeRegressor(featuresCol = 'features', labelCol = 'balance', maxDepth = 10)\n",
    "model = decisiontreeregressor.fit(training_data)\n",
    "model"
   ]
  },
  {
   "cell_type": "markdown",
   "metadata": {},
   "source": [
    "## Model Prediction"
   ]
  },
  {
   "cell_type": "code",
   "execution_count": 8,
   "metadata": {},
   "outputs": [
    {
     "name": "stdout",
     "output_type": "stream",
     "text": [
      "+--------------------+------------------+-------+\n",
      "|            features|        prediction|balance|\n",
      "+--------------------+------------------+-------+\n",
      "|(14,[0,1,2,3,9,10...|              -4.0|     24|\n",
      "|(14,[0,1,2,4,9,10...|            597.76|    426|\n",
      "|(14,[0,1,2,4,9,10...| 1344.556511056511|   2565|\n",
      "|(14,[0,1,2,4,9,10...| 582.2363636363636|      0|\n",
      "|(14,[0,1,2,4,9,10...| 1344.556511056511|    130|\n",
      "|(14,[0,1,2,4,9,10...|320.30379746835445|    418|\n",
      "|(14,[0,1,2,4,9,10...|           1862.25|    392|\n",
      "|(14,[0,1,2,4,9,10...| 1344.556511056511|  13107|\n",
      "|(14,[0,1,2,4,9,10...| 1344.556511056511|     31|\n",
      "|(14,[0,1,2,6,9,10...|            3744.7|     79|\n",
      "+--------------------+------------------+-------+\n",
      "only showing top 10 rows\n",
      "\n"
     ]
    }
   ],
   "source": [
    "predictions = model.transform(testing_data)\n",
    "predictions.select(\"features\",\"prediction\",\"balance\").show(10)"
   ]
  }
 ],
 "metadata": {
  "kernelspec": {
   "display_name": "Python 3",
   "language": "python",
   "name": "python3"
  },
  "language_info": {
   "codemirror_mode": {
    "name": "ipython",
    "version": 3
   },
   "file_extension": ".py",
   "mimetype": "text/x-python",
   "name": "python",
   "nbconvert_exporter": "python",
   "pygments_lexer": "ipython3",
   "version": "3.7.4"
  }
 },
 "nbformat": 4,
 "nbformat_minor": 2
}
